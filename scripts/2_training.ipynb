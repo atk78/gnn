{
 "cells": [
  {
   "cell_type": "code",
   "execution_count": null,
   "id": "6b9aaa80",
   "metadata": {},
   "outputs": [
    {
     "name": "stderr",
     "output_type": "stream",
     "text": [
      "/home/atsu/programming/python/2_advance/gnn/.venv/lib/python3.12/site-packages/tqdm/auto.py:21: TqdmWarning: IProgress not found. Please update jupyter and ipywidgets. See https://ipywidgets.readthedocs.io/en/stable/user_install.html\n",
      "  from .autonotebook import tqdm as notebook_tqdm\n"
     ]
    },
    {
     "name": "stdout",
     "output_type": "stream",
     "text": [
      "shape: (5, 2)\n",
      "┌───────────┬────────┐\n",
      "│ smiles    ┆ tg     │\n",
      "│ ---       ┆ ---    │\n",
      "│ str       ┆ f64    │\n",
      "╞═══════════╪════════╡\n",
      "│ *C*       ┆ -120.0 │\n",
      "│ *CC*      ┆ -120.0 │\n",
      "│ *CC(*)C   ┆ -3.0   │\n",
      "│ *CC(*)CC  ┆ -24.1  │\n",
      "│ *CC(*)CCC ┆ -37.0  │\n",
      "└───────────┴────────┘\n",
      "2025-05-31 09:06:05 | INFO |    OS: Linux\n",
      "2025-05-31 09:06:05 | INFO |    precision is 16\n",
      "2025-05-31 09:06:14 | INFO |    Dava validation method: cv.\n",
      "2025-05-31 09:06:14 | INFO |    Num of fold: 3\n"
     ]
    },
    {
     "name": "stderr",
     "output_type": "stream",
     "text": [
      "[I 2025-05-31 09:06:23,026] A new study created in memory with name: no-name-0118b7c2-139d-45e8-a360-dce90cffb9f7\n"
     ]
    },
    {
     "name": "stdout",
     "output_type": "stream",
     "text": [
      "2025-05-31 09:06:23 | INFO |    A new study created in memory with name: no-name-0118b7c2-139d-45e8-a360-dce90cffb9f7\n"
     ]
    },
    {
     "name": "stderr",
     "output_type": "stream",
     "text": [
      "Fold: 0: 100%|██████████| 20/20 [00:10<00:00,  1.87it/s, loss=167.9781 valid_loss=169.1983 valid_r2=-84.5246]   \n",
      "Fold: 1: 100%|██████████| 20/20 [00:08<00:00,  2.33it/s, loss=165.7010 valid_loss=168.1940 valid_r2=-64.9779]   \n",
      "Fold: 2: 100%|██████████| 20/20 [00:13<00:00,  1.52it/s, loss=165.3164 valid_loss=162.9581 valid_r2=-56.8630]   \n",
      "[I 2025-05-31 09:06:55,850] Trial 0 finished with value: 79.27417714759787 and parameters: {'learning_rate': 0.0013292918943162175, 'n_conv_hidden_layer': 5, 'n_dense_hidden_layer': 4, 'n_graph_dim': 5, 'n_dense_dim': 3, 'drop_rate': 0.0}. Best is trial 0 with value: 79.27417714759787.\n"
     ]
    },
    {
     "name": "stdout",
     "output_type": "stream",
     "text": [
      "2025-05-31 09:06:55 | INFO |    Trial 0 finished with value: 79.27417714759787 and parameters: {'learning_rate': 0.0013292918943162175, 'n_conv_hidden_layer': 5, 'n_dense_hidden_layer': 4, 'n_graph_dim': 5, 'n_dense_dim': 3, 'drop_rate': 0.0}. Best is trial 0 with value: 79.27417714759787.\n"
     ]
    },
    {
     "name": "stderr",
     "output_type": "stream",
     "text": [
      "Fold: 0: 100%|██████████| 20/20 [00:11<00:00,  1.71it/s, loss=185.8652 valid_loss=182.5525 valid_r2=-10295.4297]\n",
      "Fold: 1: 100%|██████████| 20/20 [00:13<00:00,  1.53it/s, loss=184.1014 valid_loss=185.8618 valid_r2=-10091.9307]\n",
      "Fold: 2: 100%|██████████| 20/20 [00:12<00:00,  1.58it/s, loss=184.0290 valid_loss=185.7485 valid_r2=-11371.6182]\n",
      "[I 2025-05-31 09:07:33,420] Trial 1 finished with value: 89.32868327791728 and parameters: {'learning_rate': 0.00014936568554617635, 'n_conv_hidden_layer': 5, 'n_dense_hidden_layer': 4, 'n_graph_dim': 6, 'n_dense_dim': 3, 'drop_rate': 0.3}. Best is trial 0 with value: 79.27417714759787.\n"
     ]
    },
    {
     "name": "stdout",
     "output_type": "stream",
     "text": [
      "2025-05-31 09:07:33 | INFO |    Trial 1 finished with value: 89.32868327791728 and parameters: {'learning_rate': 0.00014936568554617635, 'n_conv_hidden_layer': 5, 'n_dense_hidden_layer': 4, 'n_graph_dim': 6, 'n_dense_dim': 3, 'drop_rate': 0.3}. Best is trial 0 with value: 79.27417714759787.\n"
     ]
    },
    {
     "name": "stderr",
     "output_type": "stream",
     "text": [
      "Fold: 0: 100%|██████████| 20/20 [00:07<00:00,  2.52it/s, loss=53.1612 valid_loss=54.5915 valid_r2=0.6326]    \n",
      "Fold: 1: 100%|██████████| 20/20 [00:10<00:00,  1.86it/s, loss=54.6536 valid_loss=102.5949 valid_r2=0.5793]  \n",
      "Fold: 2: 100%|██████████| 20/20 [00:10<00:00,  1.87it/s, loss=54.1529 valid_loss=70.4910 valid_r2=0.3029]    \n",
      "[I 2025-05-31 09:08:02,969] Trial 2 finished with value: 36.91832745264447 and parameters: {'learning_rate': 0.03142880890840111, 'n_conv_hidden_layer': 2, 'n_dense_hidden_layer': 1, 'n_graph_dim': 3, 'n_dense_dim': 4, 'drop_rate': 0.2}. Best is trial 2 with value: 36.91832745264447.\n"
     ]
    },
    {
     "name": "stdout",
     "output_type": "stream",
     "text": [
      "2025-05-31 09:08:02 | INFO |    Trial 2 finished with value: 36.91832745264447 and parameters: {'learning_rate': 0.03142880890840111, 'n_conv_hidden_layer': 2, 'n_dense_hidden_layer': 1, 'n_graph_dim': 3, 'n_dense_dim': 4, 'drop_rate': 0.2}. Best is trial 2 with value: 36.91832745264447.\n"
     ]
    },
    {
     "name": "stderr",
     "output_type": "stream",
     "text": [
      "Fold: 0: 100%|██████████| 20/20 [00:08<00:00,  2.28it/s, loss=121.5693 valid_loss=121.3248 valid_r2=-2.0070]   \n",
      "Fold: 1: 100%|██████████| 20/20 [00:10<00:00,  1.99it/s, loss=120.8596 valid_loss=122.4944 valid_r2=-2.7994]   \n",
      "Fold: 2: 100%|██████████| 20/20 [00:09<00:00,  2.05it/s, loss=120.3958 valid_loss=118.7491 valid_r2=-2.0557]   \n",
      "[I 2025-05-31 09:08:31,727] Trial 3 finished with value: 57.68702752249581 and parameters: {'learning_rate': 0.0019762189340280074, 'n_conv_hidden_layer': 2, 'n_dense_hidden_layer': 4, 'n_graph_dim': 3, 'n_dense_dim': 4, 'drop_rate': 0.1}. Best is trial 2 with value: 36.91832745264447.\n"
     ]
    },
    {
     "name": "stdout",
     "output_type": "stream",
     "text": [
      "2025-05-31 09:08:31 | INFO |    Trial 3 finished with value: 57.68702752249581 and parameters: {'learning_rate': 0.0019762189340280074, 'n_conv_hidden_layer': 2, 'n_dense_hidden_layer': 4, 'n_graph_dim': 3, 'n_dense_dim': 4, 'drop_rate': 0.1}. Best is trial 2 with value: 36.91832745264447.\n"
     ]
    },
    {
     "name": "stderr",
     "output_type": "stream",
     "text": [
      "Fold: 0: 100%|██████████| 20/20 [00:08<00:00,  2.40it/s, loss=59.2396 valid_loss=56.0583 valid_r2=0.6541]     \n",
      "Fold: 1: 100%|██████████| 20/20 [00:10<00:00,  1.85it/s, loss=58.8780 valid_loss=55.1802 valid_r2=0.7029]     \n",
      "Fold: 2: 100%|██████████| 20/20 [00:10<00:00,  1.89it/s, loss=57.4789 valid_loss=53.4239 valid_r2=0.6460]     \n",
      "[I 2025-05-31 09:09:01,607] Trial 4 finished with value: 26.015335829800403 and parameters: {'learning_rate': 0.0023345864076016252, 'n_conv_hidden_layer': 4, 'n_dense_hidden_layer': 1, 'n_graph_dim': 5, 'n_dense_dim': 5, 'drop_rate': 0.0}. Best is trial 4 with value: 26.015335829800403.\n"
     ]
    },
    {
     "name": "stdout",
     "output_type": "stream",
     "text": [
      "2025-05-31 09:09:01 | INFO |    Trial 4 finished with value: 26.015335829800403 and parameters: {'learning_rate': 0.0023345864076016252, 'n_conv_hidden_layer': 4, 'n_dense_hidden_layer': 1, 'n_graph_dim': 5, 'n_dense_dim': 5, 'drop_rate': 0.0}. Best is trial 4 with value: 26.015335829800403.\n"
     ]
    },
    {
     "name": "stderr",
     "output_type": "stream",
     "text": [
      "Fold: 0: 100%|██████████| 20/20 [00:07<00:00,  2.79it/s, loss=44.2465 valid_loss=49.2893 valid_r2=0.7961]    \n",
      "Fold: 1: 100%|██████████| 20/20 [00:09<00:00,  2.11it/s, loss=44.5453 valid_loss=68.1934 valid_r2=0.7442]    \n",
      "Fold: 2: 100%|██████████| 20/20 [00:09<00:00,  2.18it/s, loss=44.2565 valid_loss=48.8374 valid_r2=0.7642]    \n",
      "[I 2025-05-31 09:09:27,533] Trial 5 finished with value: 25.681701296851752 and parameters: {'learning_rate': 0.006647135865318031, 'n_conv_hidden_layer': 1, 'n_dense_hidden_layer': 1, 'n_graph_dim': 7, 'n_dense_dim': 7, 'drop_rate': 0.3}. Best is trial 5 with value: 25.681701296851752.\n"
     ]
    },
    {
     "name": "stdout",
     "output_type": "stream",
     "text": [
      "2025-05-31 09:09:27 | INFO |    Trial 5 finished with value: 25.681701296851752 and parameters: {'learning_rate': 0.006647135865318031, 'n_conv_hidden_layer': 1, 'n_dense_hidden_layer': 1, 'n_graph_dim': 7, 'n_dense_dim': 7, 'drop_rate': 0.3}. Best is trial 5 with value: 25.681701296851752.\n"
     ]
    },
    {
     "name": "stderr",
     "output_type": "stream",
     "text": [
      "Fold: 0: 100%|██████████| 20/20 [00:07<00:00,  2.69it/s, loss=179.1963 valid_loss=176.0691 valid_r2=-306.8408]  \n",
      "Fold: 1: 100%|██████████| 20/20 [00:09<00:00,  2.11it/s, loss=177.2102 valid_loss=178.5323 valid_r2=-304.3959]  \n",
      "Fold: 2: 100%|██████████| 20/20 [00:10<00:00,  1.99it/s, loss=177.0903 valid_loss=178.1901 valid_r2=-310.4314]  \n",
      "[I 2025-05-31 09:09:54,685] Trial 6 finished with value: 85.75470628687945 and parameters: {'learning_rate': 0.0008200518402245837, 'n_conv_hidden_layer': 1, 'n_dense_hidden_layer': 4, 'n_graph_dim': 5, 'n_dense_dim': 3, 'drop_rate': 0.1}. Best is trial 5 with value: 25.681701296851752.\n"
     ]
    },
    {
     "name": "stdout",
     "output_type": "stream",
     "text": [
      "2025-05-31 09:09:54 | INFO |    Trial 6 finished with value: 85.75470628687945 and parameters: {'learning_rate': 0.0008200518402245837, 'n_conv_hidden_layer': 1, 'n_dense_hidden_layer': 4, 'n_graph_dim': 5, 'n_dense_dim': 3, 'drop_rate': 0.1}. Best is trial 5 with value: 25.681701296851752.\n"
     ]
    },
    {
     "name": "stderr",
     "output_type": "stream",
     "text": [
      "Fold: 0: 100%|██████████| 20/20 [00:09<00:00,  2.15it/s, loss=184.8668 valid_loss=181.7065 valid_r2=-2982.6650]\n",
      "Fold: 1: 100%|██████████| 20/20 [00:11<00:00,  1.74it/s, loss=183.3266 valid_loss=184.9083 valid_r2=-3008.6096] \n",
      "Fold: 2: 100%|██████████| 20/20 [00:11<00:00,  1.79it/s, loss=183.1739 valid_loss=184.7706 valid_r2=-2995.9407]\n",
      "[I 2025-05-31 09:10:26,891] Trial 7 finished with value: 88.86544097415985 and parameters: {'learning_rate': 0.00012681352169084607, 'n_conv_hidden_layer': 5, 'n_dense_hidden_layer': 2, 'n_graph_dim': 6, 'n_dense_dim': 4, 'drop_rate': 0.2}. Best is trial 5 with value: 25.681701296851752.\n"
     ]
    },
    {
     "name": "stdout",
     "output_type": "stream",
     "text": [
      "2025-05-31 09:10:26 | INFO |    Trial 7 finished with value: 88.86544097415985 and parameters: {'learning_rate': 0.00012681352169084607, 'n_conv_hidden_layer': 5, 'n_dense_hidden_layer': 2, 'n_graph_dim': 6, 'n_dense_dim': 4, 'drop_rate': 0.2}. Best is trial 5 with value: 25.681701296851752.\n"
     ]
    },
    {
     "name": "stderr",
     "output_type": "stream",
     "text": [
      "Fold: 0: 100%|██████████| 20/20 [00:08<00:00,  2.23it/s, loss=46.1769 valid_loss=50.4574 valid_r2=0.6932]   \n",
      "Fold: 1: 100%|██████████| 20/20 [00:06<00:00,  2.96it/s, loss=44.2525 valid_loss=49.5492 valid_r2=0.7896]\n",
      "Fold: 2: 100%|██████████| 20/20 [00:09<00:00,  2.15it/s, loss=45.3648 valid_loss=49.5905 valid_r2=0.7688]   \n",
      "[I 2025-05-31 09:10:52,089] Trial 8 finished with value: 23.904419258158043 and parameters: {'learning_rate': 0.004366473592979638, 'n_conv_hidden_layer': 1, 'n_dense_hidden_layer': 5, 'n_graph_dim': 6, 'n_dense_dim': 7, 'drop_rate': 0.3}. Best is trial 8 with value: 23.904419258158043.\n"
     ]
    },
    {
     "name": "stdout",
     "output_type": "stream",
     "text": [
      "2025-05-31 09:10:52 | INFO |    Trial 8 finished with value: 23.904419258158043 and parameters: {'learning_rate': 0.004366473592979638, 'n_conv_hidden_layer': 1, 'n_dense_hidden_layer': 5, 'n_graph_dim': 6, 'n_dense_dim': 7, 'drop_rate': 0.3}. Best is trial 8 with value: 23.904419258158043.\n"
     ]
    },
    {
     "name": "stderr",
     "output_type": "stream",
     "text": [
      "Fold: 0: 100%|██████████| 20/20 [00:11<00:00,  1.71it/s, loss=52.7515 valid_loss=53.9481 valid_r2=0.6590]     \n",
      "Fold: 1: 100%|██████████| 20/20 [00:08<00:00,  2.26it/s, loss=52.6828 valid_loss=68.2634 valid_r2=0.6045]     \n",
      "Fold: 2: 100%|██████████| 20/20 [00:10<00:00,  1.83it/s, loss=51.7659 valid_loss=53.9981 valid_r2=0.7391]     \n",
      "[I 2025-05-31 09:11:23,756] Trial 9 finished with value: 27.582260273121022 and parameters: {'learning_rate': 0.00621870472776908, 'n_conv_hidden_layer': 5, 'n_dense_hidden_layer': 1, 'n_graph_dim': 3, 'n_dense_dim': 3, 'drop_rate': 0.1}. Best is trial 8 with value: 23.904419258158043.\n"
     ]
    },
    {
     "name": "stdout",
     "output_type": "stream",
     "text": [
      "2025-05-31 09:11:23 | INFO |    Trial 9 finished with value: 27.582260273121022 and parameters: {'learning_rate': 0.00621870472776908, 'n_conv_hidden_layer': 5, 'n_dense_hidden_layer': 1, 'n_graph_dim': 3, 'n_dense_dim': 3, 'drop_rate': 0.1}. Best is trial 8 with value: 23.904419258158043.\n"
     ]
    },
    {
     "name": "stderr",
     "output_type": "stream",
     "text": [
      "Fold: 0: 100%|██████████| 20/20 [00:10<00:00,  1.86it/s, loss=146.6761 valid_loss=141.3276 valid_r2=-8.2233]   \n",
      "Fold: 1: 100%|██████████| 20/20 [00:07<00:00,  2.50it/s, loss=144.5227 valid_loss=153.4868 valid_r2=-14.3011]  \n",
      "Fold: 2: 100%|██████████| 20/20 [00:10<00:00,  1.95it/s, loss=144.6708 valid_loss=141.9897 valid_r2=-8.4471]   \n",
      "[I 2025-05-31 09:11:52,921] Trial 10 finished with value: 69.61832754952566 and parameters: {'learning_rate': 0.001465655388622534, 'n_conv_hidden_layer': 2, 'n_dense_hidden_layer': 5, 'n_graph_dim': 4, 'n_dense_dim': 4, 'drop_rate': 0.2}. Best is trial 8 with value: 23.904419258158043.\n"
     ]
    },
    {
     "name": "stdout",
     "output_type": "stream",
     "text": [
      "2025-05-31 09:11:52 | INFO |    Trial 10 finished with value: 69.61832754952566 and parameters: {'learning_rate': 0.001465655388622534, 'n_conv_hidden_layer': 2, 'n_dense_hidden_layer': 5, 'n_graph_dim': 4, 'n_dense_dim': 4, 'drop_rate': 0.2}. Best is trial 8 with value: 23.904419258158043.\n"
     ]
    },
    {
     "name": "stderr",
     "output_type": "stream",
     "text": [
      "Fold: 0: 100%|██████████| 20/20 [00:11<00:00,  1.80it/s, loss=175.1881 valid_loss=172.4911 valid_r2=-76.6633]  \n",
      "Fold: 1: 100%|██████████| 20/20 [00:08<00:00,  2.46it/s, loss=173.6887 valid_loss=175.4521 valid_r2=-97.2715]  \n",
      "Fold: 2: 100%|██████████| 20/20 [00:10<00:00,  1.88it/s, loss=173.6245 valid_loss=176.0608 valid_r2=-102.0365] \n",
      "[I 2025-05-31 09:12:22,951] Trial 11 finished with value: 84.57016415066188 and parameters: {'learning_rate': 0.00026471141828218194, 'n_conv_hidden_layer': 5, 'n_dense_hidden_layer': 1, 'n_graph_dim': 7, 'n_dense_dim': 6, 'drop_rate': 0.0}. Best is trial 8 with value: 23.904419258158043.\n"
     ]
    },
    {
     "name": "stdout",
     "output_type": "stream",
     "text": [
      "2025-05-31 09:12:22 | INFO |    Trial 11 finished with value: 84.57016415066188 and parameters: {'learning_rate': 0.00026471141828218194, 'n_conv_hidden_layer': 5, 'n_dense_hidden_layer': 1, 'n_graph_dim': 7, 'n_dense_dim': 6, 'drop_rate': 0.0}. Best is trial 8 with value: 23.904419258158043.\n"
     ]
    },
    {
     "name": "stderr",
     "output_type": "stream",
     "text": [
      "Fold: 0: 100%|██████████| 20/20 [00:11<00:00,  1.73it/s, loss=182.0114 valid_loss=179.0195 valid_r2=-480.6430]  \n",
      "Fold: 1: 100%|██████████| 20/20 [00:09<00:00,  2.17it/s, loss=180.8587 valid_loss=181.8840 valid_r2=-483.3953]  \n",
      "Fold: 2: 100%|██████████| 20/20 [00:13<00:00,  1.49it/s, loss=179.9258 valid_loss=181.9777 valid_r2=-498.7663]  \n",
      "[I 2025-05-31 09:12:57,364] Trial 12 finished with value: 87.49892465904276 and parameters: {'learning_rate': 0.00010388823104027947, 'n_conv_hidden_layer': 5, 'n_dense_hidden_layer': 4, 'n_graph_dim': 6, 'n_dense_dim': 6, 'drop_rate': 0.0}. Best is trial 8 with value: 23.904419258158043.\n"
     ]
    },
    {
     "name": "stdout",
     "output_type": "stream",
     "text": [
      "2025-05-31 09:12:57 | INFO |    Trial 12 finished with value: 87.49892465904276 and parameters: {'learning_rate': 0.00010388823104027947, 'n_conv_hidden_layer': 5, 'n_dense_hidden_layer': 4, 'n_graph_dim': 6, 'n_dense_dim': 6, 'drop_rate': 0.0}. Best is trial 8 with value: 23.904419258158043.\n"
     ]
    },
    {
     "name": "stderr",
     "output_type": "stream",
     "text": [
      "Fold: 0: 100%|██████████| 20/20 [00:08<00:00,  2.47it/s, loss=157.0897 valid_loss=152.5517 valid_r2=-19.5199]  \n",
      "Fold: 1: 100%|██████████| 20/20 [00:10<00:00,  1.86it/s, loss=155.7338 valid_loss=159.0923 valid_r2=-23.2013]  \n",
      "Fold: 2: 100%|██████████| 20/20 [00:11<00:00,  1.80it/s, loss=155.4553 valid_loss=159.5565 valid_r2=-30.1630]  \n",
      "[I 2025-05-31 09:13:27,507] Trial 13 finished with value: 76.51248237569496 and parameters: {'learning_rate': 0.0011895896737553553, 'n_conv_hidden_layer': 1, 'n_dense_hidden_layer': 5, 'n_graph_dim': 6, 'n_dense_dim': 4, 'drop_rate': 0.0}. Best is trial 8 with value: 23.904419258158043.\n"
     ]
    },
    {
     "name": "stdout",
     "output_type": "stream",
     "text": [
      "2025-05-31 09:13:27 | INFO |    Trial 13 finished with value: 76.51248237569496 and parameters: {'learning_rate': 0.0011895896737553553, 'n_conv_hidden_layer': 1, 'n_dense_hidden_layer': 5, 'n_graph_dim': 6, 'n_dense_dim': 4, 'drop_rate': 0.0}. Best is trial 8 with value: 23.904419258158043.\n"
     ]
    },
    {
     "name": "stderr",
     "output_type": "stream",
     "text": [
      "Fold: 0: 100%|██████████| 20/20 [00:09<00:00,  2.20it/s, loss=104.7302 valid_loss=97.5049 valid_r2=0.1712]   \n",
      "Fold: 1: 100%|██████████| 20/20 [00:11<00:00,  1.72it/s, loss=104.0916 valid_loss=113.5956 valid_r2=-0.1195] \n",
      "Fold: 2: 100%|██████████| 20/20 [00:11<00:00,  1.78it/s, loss=103.1069 valid_loss=100.8566 valid_r2=0.1287]  \n",
      "[I 2025-05-31 09:13:59,660] Trial 14 finished with value: 49.85189466123228 and parameters: {'learning_rate': 0.0008569331925053991, 'n_conv_hidden_layer': 2, 'n_dense_hidden_layer': 4, 'n_graph_dim': 6, 'n_dense_dim': 7, 'drop_rate': 0.1}. Best is trial 8 with value: 23.904419258158043.\n"
     ]
    },
    {
     "name": "stdout",
     "output_type": "stream",
     "text": [
      "2025-05-31 09:13:59 | INFO |    Trial 14 finished with value: 49.85189466123228 and parameters: {'learning_rate': 0.0008569331925053991, 'n_conv_hidden_layer': 2, 'n_dense_hidden_layer': 4, 'n_graph_dim': 6, 'n_dense_dim': 7, 'drop_rate': 0.1}. Best is trial 8 with value: 23.904419258158043.\n"
     ]
    },
    {
     "name": "stderr",
     "output_type": "stream",
     "text": [
      "Fold: 0: 100%|██████████| 20/20 [00:10<00:00,  1.96it/s, loss=176.6724 valid_loss=174.4220 valid_r2=-116.1849] \n",
      "Fold: 1: 100%|██████████| 20/20 [00:12<00:00,  1.56it/s, loss=175.5318 valid_loss=177.1377 valid_r2=-120.7468] \n",
      "Fold: 2: 100%|██████████| 20/20 [00:12<00:00,  1.56it/s, loss=174.8739 valid_loss=175.2017 valid_r2=-104.8932] \n",
      "[I 2025-05-31 09:14:35,649] Trial 15 finished with value: 84.54260964368386 and parameters: {'learning_rate': 0.00022844556850020554, 'n_conv_hidden_layer': 4, 'n_dense_hidden_layer': 4, 'n_graph_dim': 5, 'n_dense_dim': 6, 'drop_rate': 0.1}. Best is trial 8 with value: 23.904419258158043.\n"
     ]
    },
    {
     "name": "stdout",
     "output_type": "stream",
     "text": [
      "2025-05-31 09:14:35 | INFO |    Trial 15 finished with value: 84.54260964368386 and parameters: {'learning_rate': 0.00022844556850020554, 'n_conv_hidden_layer': 4, 'n_dense_hidden_layer': 4, 'n_graph_dim': 5, 'n_dense_dim': 6, 'drop_rate': 0.1}. Best is trial 8 with value: 23.904419258158043.\n"
     ]
    },
    {
     "name": "stderr",
     "output_type": "stream",
     "text": [
      "Fold: 0: 100%|██████████| 20/20 [00:10<00:00,  1.99it/s, loss=90.8438 valid_loss=66.8759 valid_r2=0.4885]    \n",
      "Fold: 1: 100%|██████████| 20/20 [00:11<00:00,  1.72it/s, loss=91.2899 valid_loss=86.6554 valid_r2=-0.0155]    \n",
      "Fold: 2: 100%|██████████| 20/20 [00:09<00:00,  2.20it/s, loss=90.7735 valid_loss=91.7018 valid_r2=-0.1401]    \n",
      "[I 2025-05-31 09:15:06,613] Trial 16 finished with value: 42.6725167572183 and parameters: {'learning_rate': 0.0036999724314638123, 'n_conv_hidden_layer': 3, 'n_dense_hidden_layer': 1, 'n_graph_dim': 3, 'n_dense_dim': 3, 'drop_rate': 0.2}. Best is trial 8 with value: 23.904419258158043.\n"
     ]
    },
    {
     "name": "stdout",
     "output_type": "stream",
     "text": [
      "2025-05-31 09:15:06 | INFO |    Trial 16 finished with value: 42.6725167572183 and parameters: {'learning_rate': 0.0036999724314638123, 'n_conv_hidden_layer': 3, 'n_dense_hidden_layer': 1, 'n_graph_dim': 3, 'n_dense_dim': 3, 'drop_rate': 0.2}. Best is trial 8 with value: 23.904419258158043.\n"
     ]
    },
    {
     "name": "stderr",
     "output_type": "stream",
     "text": [
      "Fold: 0: 100%|██████████| 20/20 [00:11<00:00,  1.76it/s, loss=155.1985 valid_loss=145.6717 valid_r2=-12.6741]   \n",
      "Fold: 1: 100%|██████████| 20/20 [00:10<00:00,  1.85it/s, loss=153.7937 valid_loss=159.8181 valid_r2=-18.8451]   \n",
      "Fold: 2: 100%|██████████| 20/20 [00:08<00:00,  2.46it/s, loss=153.3391 valid_loss=157.8447 valid_r2=-16.7701]   \n",
      "[I 2025-05-31 09:15:37,098] Trial 17 finished with value: 75.76771424308656 and parameters: {'learning_rate': 0.0008771380343280567, 'n_conv_hidden_layer': 3, 'n_dense_hidden_layer': 5, 'n_graph_dim': 4, 'n_dense_dim': 5, 'drop_rate': 0.3}. Best is trial 8 with value: 23.904419258158043.\n"
     ]
    },
    {
     "name": "stdout",
     "output_type": "stream",
     "text": [
      "2025-05-31 09:15:37 | INFO |    Trial 17 finished with value: 75.76771424308656 and parameters: {'learning_rate': 0.0008771380343280567, 'n_conv_hidden_layer': 3, 'n_dense_hidden_layer': 5, 'n_graph_dim': 4, 'n_dense_dim': 5, 'drop_rate': 0.3}. Best is trial 8 with value: 23.904419258158043.\n"
     ]
    },
    {
     "name": "stderr",
     "output_type": "stream",
     "text": [
      "Fold: 0: 100%|██████████| 20/20 [00:08<00:00,  2.27it/s, loss=147.2846 valid_loss=148.6222 valid_r2=-5.8011]  \n",
      "Fold: 1: 100%|██████████| 20/20 [00:09<00:00,  2.21it/s, loss=146.1176 valid_loss=145.7479 valid_r2=-4.4987]  \n",
      "Fold: 2: 100%|██████████| 20/20 [00:09<00:00,  2.20it/s, loss=144.8125 valid_loss=144.4938 valid_r2=-4.2754]  \n",
      "[I 2025-05-31 09:16:04,218] Trial 18 finished with value: 69.86333344474671 and parameters: {'learning_rate': 0.000485729517921717, 'n_conv_hidden_layer': 1, 'n_dense_hidden_layer': 2, 'n_graph_dim': 3, 'n_dense_dim': 7, 'drop_rate': 0.3}. Best is trial 8 with value: 23.904419258158043.\n"
     ]
    },
    {
     "name": "stdout",
     "output_type": "stream",
     "text": [
      "2025-05-31 09:16:04 | INFO |    Trial 18 finished with value: 69.86333344474671 and parameters: {'learning_rate': 0.000485729517921717, 'n_conv_hidden_layer': 1, 'n_dense_hidden_layer': 2, 'n_graph_dim': 3, 'n_dense_dim': 7, 'drop_rate': 0.3}. Best is trial 8 with value: 23.904419258158043.\n"
     ]
    },
    {
     "name": "stderr",
     "output_type": "stream",
     "text": [
      "Fold: 0: 100%|██████████| 20/20 [00:09<00:00,  2.20it/s, loss=45.5977 valid_loss=51.3427 valid_r2=0.7474]  \n",
      "Fold: 1: 100%|██████████| 20/20 [00:11<00:00,  1.74it/s, loss=45.6993 valid_loss=45.8625 valid_r2=0.7770]  \n",
      "Fold: 2: 100%|██████████| 20/20 [00:08<00:00,  2.23it/s, loss=44.9335 valid_loss=54.1779 valid_r2=0.7124]   \n",
      "[I 2025-05-31 09:16:33,987] Trial 19 finished with value: 25.056700156479284 and parameters: {'learning_rate': 0.007947147424653748, 'n_conv_hidden_layer': 5, 'n_dense_hidden_layer': 5, 'n_graph_dim': 3, 'n_dense_dim': 7, 'drop_rate': 0.2}. Best is trial 8 with value: 23.904419258158043.\n"
     ]
    },
    {
     "name": "stdout",
     "output_type": "stream",
     "text": [
      "2025-05-31 09:16:33 | INFO |    Trial 19 finished with value: 25.056700156479284 and parameters: {'learning_rate': 0.007947147424653748, 'n_conv_hidden_layer': 5, 'n_dense_hidden_layer': 5, 'n_graph_dim': 3, 'n_dense_dim': 7, 'drop_rate': 0.2}. Best is trial 8 with value: 23.904419258158043.\n"
     ]
    },
    {
     "name": "stderr",
     "output_type": "stream",
     "text": [
      "Fold: 0: 100%|██████████| 20/20 [00:10<00:00,  1.83it/s, loss=48.4023 valid_loss=52.1599 valid_r2=0.6956]   \n",
      "Fold: 1: 100%|██████████| 20/20 [00:11<00:00,  1.81it/s, loss=51.5362 valid_loss=55.1576 valid_r2=0.5486]   \n",
      "Fold: 2: 100%|██████████| 20/20 [00:08<00:00,  2.32it/s, loss=50.0969 valid_loss=53.7946 valid_r2=0.6685]   \n",
      "[I 2025-05-31 09:17:04,820] Trial 20 finished with value: 25.99199792569276 and parameters: {'learning_rate': 0.026443593078398657, 'n_conv_hidden_layer': 5, 'n_dense_hidden_layer': 2, 'n_graph_dim': 3, 'n_dense_dim': 4, 'drop_rate': 0.1}. Best is trial 8 with value: 23.904419258158043.\n"
     ]
    },
    {
     "name": "stdout",
     "output_type": "stream",
     "text": [
      "2025-05-31 09:17:04 | INFO |    Trial 20 finished with value: 25.99199792569276 and parameters: {'learning_rate': 0.026443593078398657, 'n_conv_hidden_layer': 5, 'n_dense_hidden_layer': 2, 'n_graph_dim': 3, 'n_dense_dim': 4, 'drop_rate': 0.1}. Best is trial 8 with value: 23.904419258158043.\n"
     ]
    },
    {
     "name": "stderr",
     "output_type": "stream",
     "text": [
      "Fold: 0: 100%|██████████| 20/20 [00:11<00:00,  1.71it/s, loss=54.6453 valid_loss=60.5888 valid_r2=0.2587]   \n",
      "Fold: 1: 100%|██████████| 20/20 [00:11<00:00,  1.80it/s, loss=45.2793 valid_loss=53.0645 valid_r2=0.8129]   \n",
      "Fold: 2: 100%|██████████| 20/20 [00:08<00:00,  2.32it/s, loss=44.1856 valid_loss=51.5706 valid_r2=0.6891]  \n",
      "[I 2025-05-31 09:17:36,417] Trial 21 finished with value: 25.330266508475813 and parameters: {'learning_rate': 0.028447512555118206, 'n_conv_hidden_layer': 5, 'n_dense_hidden_layer': 1, 'n_graph_dim': 5, 'n_dense_dim': 5, 'drop_rate': 0.0}. Best is trial 8 with value: 23.904419258158043.\n"
     ]
    },
    {
     "name": "stdout",
     "output_type": "stream",
     "text": [
      "2025-05-31 09:17:36 | INFO |    Trial 21 finished with value: 25.330266508475813 and parameters: {'learning_rate': 0.028447512555118206, 'n_conv_hidden_layer': 5, 'n_dense_hidden_layer': 1, 'n_graph_dim': 5, 'n_dense_dim': 5, 'drop_rate': 0.0}. Best is trial 8 with value: 23.904419258158043.\n"
     ]
    },
    {
     "name": "stderr",
     "output_type": "stream",
     "text": [
      "Fold: 0: 100%|██████████| 20/20 [00:10<00:00,  1.86it/s, loss=181.4244 valid_loss=178.1890 valid_r2=-357.7841]  \n",
      "Fold: 1: 100%|██████████| 20/20 [00:10<00:00,  1.95it/s, loss=179.9860 valid_loss=181.0409 valid_r2=-376.9621]  \n",
      "Fold: 2: 100%|██████████| 20/20 [00:07<00:00,  2.63it/s, loss=179.2390 valid_loss=181.2512 valid_r2=-383.2292]  \n",
      "[I 2025-05-31 09:18:05,214] Trial 22 finished with value: 87.13232478389034 and parameters: {'learning_rate': 0.0002288738114460098, 'n_conv_hidden_layer': 2, 'n_dense_hidden_layer': 5, 'n_graph_dim': 4, 'n_dense_dim': 5, 'drop_rate': 0.2}. Best is trial 8 with value: 23.904419258158043.\n"
     ]
    },
    {
     "name": "stdout",
     "output_type": "stream",
     "text": [
      "2025-05-31 09:18:05 | INFO |    Trial 22 finished with value: 87.13232478389034 and parameters: {'learning_rate': 0.0002288738114460098, 'n_conv_hidden_layer': 2, 'n_dense_hidden_layer': 5, 'n_graph_dim': 4, 'n_dense_dim': 5, 'drop_rate': 0.2}. Best is trial 8 with value: 23.904419258158043.\n"
     ]
    },
    {
     "name": "stderr",
     "output_type": "stream",
     "text": [
      "Fold: 0: 100%|██████████| 20/20 [00:11<00:00,  1.72it/s, loss=132.0165 valid_loss=117.4449 valid_r2=-2.2409]   \n",
      "Fold: 1: 100%|██████████| 20/20 [00:11<00:00,  1.73it/s, loss=131.1809 valid_loss=129.5129 valid_r2=-3.2027]   \n",
      "Fold: 2: 100%|██████████| 20/20 [00:09<00:00,  2.21it/s, loss=130.7505 valid_loss=124.6910 valid_r2=-1.8986]   \n",
      "[I 2025-05-31 09:18:37,622] Trial 23 finished with value: 60.30380347922996 and parameters: {'learning_rate': 0.0012327891605450798, 'n_conv_hidden_layer': 5, 'n_dense_hidden_layer': 5, 'n_graph_dim': 4, 'n_dense_dim': 5, 'drop_rate': 0.1}. Best is trial 8 with value: 23.904419258158043.\n"
     ]
    },
    {
     "name": "stdout",
     "output_type": "stream",
     "text": [
      "2025-05-31 09:18:37 | INFO |    Trial 23 finished with value: 60.30380347922996 and parameters: {'learning_rate': 0.0012327891605450798, 'n_conv_hidden_layer': 5, 'n_dense_hidden_layer': 5, 'n_graph_dim': 4, 'n_dense_dim': 5, 'drop_rate': 0.1}. Best is trial 8 with value: 23.904419258158043.\n"
     ]
    },
    {
     "name": "stderr",
     "output_type": "stream",
     "text": [
      "Fold: 0: 100%|██████████| 20/20 [00:09<00:00,  2.05it/s, loss=179.4595 valid_loss=176.3502 valid_r2=-444.6008]  \n",
      "Fold: 1: 100%|██████████| 20/20 [00:10<00:00,  1.89it/s, loss=178.6083 valid_loss=180.0770 valid_r2=-498.4954]  \n",
      "Fold: 2: 100%|██████████| 20/20 [00:07<00:00,  2.51it/s, loss=177.5655 valid_loss=180.1412 valid_r2=-429.3576]  \n",
      "[I 2025-05-31 09:19:06,050] Trial 24 finished with value: 86.58712086349567 and parameters: {'learning_rate': 0.000715354779469316, 'n_conv_hidden_layer': 1, 'n_dense_hidden_layer': 4, 'n_graph_dim': 5, 'n_dense_dim': 3, 'drop_rate': 0.1}. Best is trial 8 with value: 23.904419258158043.\n"
     ]
    },
    {
     "name": "stdout",
     "output_type": "stream",
     "text": [
      "2025-05-31 09:19:06 | INFO |    Trial 24 finished with value: 86.58712086349567 and parameters: {'learning_rate': 0.000715354779469316, 'n_conv_hidden_layer': 1, 'n_dense_hidden_layer': 4, 'n_graph_dim': 5, 'n_dense_dim': 3, 'drop_rate': 0.1}. Best is trial 8 with value: 23.904419258158043.\n"
     ]
    },
    {
     "name": "stderr",
     "output_type": "stream",
     "text": [
      "Fold: 0: 100%|██████████| 20/20 [00:10<00:00,  1.86it/s, loss=47.4367 valid_loss=73.3035 valid_r2=0.5503] \n",
      "Fold: 1: 100%|██████████| 20/20 [00:10<00:00,  1.92it/s, loss=48.5462 valid_loss=45.4540 valid_r2=0.8002]  \n",
      "Fold: 2: 100%|██████████| 20/20 [00:07<00:00,  2.53it/s, loss=42.9663 valid_loss=1792.8062 valid_r2=-0.0078]\n",
      "[I 2025-05-31 09:19:35,290] Trial 25 finished with value: 605.367444628761 and parameters: {'learning_rate': 0.05306371575220848, 'n_conv_hidden_layer': 2, 'n_dense_hidden_layer': 1, 'n_graph_dim': 5, 'n_dense_dim': 7, 'drop_rate': 0.0}. Best is trial 8 with value: 23.904419258158043.\n"
     ]
    },
    {
     "name": "stdout",
     "output_type": "stream",
     "text": [
      "2025-05-31 09:19:35 | INFO |    Trial 25 finished with value: 605.367444628761 and parameters: {'learning_rate': 0.05306371575220848, 'n_conv_hidden_layer': 2, 'n_dense_hidden_layer': 1, 'n_graph_dim': 5, 'n_dense_dim': 7, 'drop_rate': 0.0}. Best is trial 8 with value: 23.904419258158043.\n"
     ]
    },
    {
     "name": "stderr",
     "output_type": "stream",
     "text": [
      "Fold: 0: 100%|██████████| 20/20 [00:12<00:00,  1.56it/s, loss=49.5957 valid_loss=65.1762 valid_r2=0.6552]    \n",
      "Fold: 1: 100%|██████████| 20/20 [00:12<00:00,  1.61it/s, loss=50.2946 valid_loss=55.8223 valid_r2=0.5707]    \n",
      "Fold: 2: 100%|██████████| 20/20 [00:09<00:00,  2.00it/s, loss=48.3707 valid_loss=56.7340 valid_r2=0.7218]    \n",
      "[I 2025-05-31 09:20:10,678] Trial 26 finished with value: 27.527742668434428 and parameters: {'learning_rate': 0.010385003379927421, 'n_conv_hidden_layer': 4, 'n_dense_hidden_layer': 2, 'n_graph_dim': 6, 'n_dense_dim': 4, 'drop_rate': 0.2}. Best is trial 8 with value: 23.904419258158043.\n"
     ]
    },
    {
     "name": "stdout",
     "output_type": "stream",
     "text": [
      "2025-05-31 09:20:10 | INFO |    Trial 26 finished with value: 27.527742668434428 and parameters: {'learning_rate': 0.010385003379927421, 'n_conv_hidden_layer': 4, 'n_dense_hidden_layer': 2, 'n_graph_dim': 6, 'n_dense_dim': 4, 'drop_rate': 0.2}. Best is trial 8 with value: 23.904419258158043.\n"
     ]
    },
    {
     "name": "stderr",
     "output_type": "stream",
     "text": [
      "Fold: 0: 100%|██████████| 20/20 [00:10<00:00,  1.97it/s, loss=40.9449 valid_loss=47.3902 valid_r2=0.7515]     \n",
      "Fold: 1: 100%|██████████| 20/20 [00:09<00:00,  2.03it/s, loss=42.8539 valid_loss=42.4268 valid_r2=0.8314]     \n",
      "Fold: 2: 100%|██████████| 20/20 [00:07<00:00,  2.80it/s, loss=40.7059 valid_loss=46.4506 valid_r2=0.7837]     \n",
      "[I 2025-05-31 09:20:37,988] Trial 27 finished with value: 21.952809258112833 and parameters: {'learning_rate': 0.007954064937683933, 'n_conv_hidden_layer': 3, 'n_dense_hidden_layer': 1, 'n_graph_dim': 7, 'n_dense_dim': 4, 'drop_rate': 0.0}. Best is trial 27 with value: 21.952809258112833.\n"
     ]
    },
    {
     "name": "stdout",
     "output_type": "stream",
     "text": [
      "2025-05-31 09:20:37 | INFO |    Trial 27 finished with value: 21.952809258112833 and parameters: {'learning_rate': 0.007954064937683933, 'n_conv_hidden_layer': 3, 'n_dense_hidden_layer': 1, 'n_graph_dim': 7, 'n_dense_dim': 4, 'drop_rate': 0.0}. Best is trial 27 with value: 21.952809258112833.\n"
     ]
    },
    {
     "name": "stderr",
     "output_type": "stream",
     "text": [
      "Fold: 0: 100%|██████████| 20/20 [00:10<00:00,  1.86it/s, loss=183.8199 valid_loss=180.3001 valid_r2=-1027.2625] \n",
      "Fold: 1: 100%|██████████| 20/20 [00:10<00:00,  1.83it/s, loss=182.2615 valid_loss=183.5015 valid_r2=-1077.7593] \n",
      "Fold: 2: 100%|██████████| 20/20 [00:08<00:00,  2.42it/s, loss=181.9388 valid_loss=183.5419 valid_r2=-1073.9779] \n",
      "[I 2025-05-31 09:21:08,094] Trial 28 finished with value: 88.24746631440662 and parameters: {'learning_rate': 0.0001325334260006654, 'n_conv_hidden_layer': 3, 'n_dense_hidden_layer': 4, 'n_graph_dim': 3, 'n_dense_dim': 5, 'drop_rate': 0.0}. Best is trial 27 with value: 21.952809258112833.\n"
     ]
    },
    {
     "name": "stdout",
     "output_type": "stream",
     "text": [
      "2025-05-31 09:21:08 | INFO |    Trial 28 finished with value: 88.24746631440662 and parameters: {'learning_rate': 0.0001325334260006654, 'n_conv_hidden_layer': 3, 'n_dense_hidden_layer': 4, 'n_graph_dim': 3, 'n_dense_dim': 5, 'drop_rate': 0.0}. Best is trial 27 with value: 21.952809258112833.\n"
     ]
    },
    {
     "name": "stderr",
     "output_type": "stream",
     "text": [
      "Fold: 0: 100%|██████████| 20/20 [00:10<00:00,  2.00it/s, loss=39.2846 valid_loss=48.7478 valid_r2=0.7221]  \n",
      "Fold: 1: 100%|██████████| 20/20 [00:09<00:00,  2.09it/s, loss=42.1592 valid_loss=51.9449 valid_r2=0.7697]   \n",
      "Fold: 2: 100%|██████████| 20/20 [00:06<00:00,  3.00it/s, loss=41.9714 valid_loss=54.0202 valid_r2=0.7863]  \n",
      "[I 2025-05-31 09:21:34,542] Trial 29 finished with value: 25.58385979183136 and parameters: {'learning_rate': 0.008620220426018047, 'n_conv_hidden_layer': 1, 'n_dense_hidden_layer': 4, 'n_graph_dim': 4, 'n_dense_dim': 7, 'drop_rate': 0.0}. Best is trial 27 with value: 21.952809258112833.\n"
     ]
    },
    {
     "name": "stdout",
     "output_type": "stream",
     "text": [
      "2025-05-31 09:21:34 | INFO |    Trial 29 finished with value: 25.58385979183136 and parameters: {'learning_rate': 0.008620220426018047, 'n_conv_hidden_layer': 1, 'n_dense_hidden_layer': 4, 'n_graph_dim': 4, 'n_dense_dim': 7, 'drop_rate': 0.0}. Best is trial 27 with value: 21.952809258112833.\n",
      "2025-05-31 09:21:34 | INFO |    Best Trial: 27 with RMSE value: 21.952809258112833\n",
      "2025-05-31 09:21:34 | INFO |    Best Params\n",
      "2025-05-31 09:21:34 | INFO |    GNN Type            |GCN\n",
      "2025-05-31 09:21:34 | INFO |    Conv hidden layers  |3\n",
      "2025-05-31 09:21:34 | INFO |    Dense hidden layers |1\n",
      "2025-05-31 09:21:34 | INFO |    Graph dim           |128\n",
      "2025-05-31 09:21:34 | INFO |    Dense dim           |16\n",
      "2025-05-31 09:21:34 | INFO |    Drop rate           |0.0\n",
      "2025-05-31 09:21:34 | INFO |    learning rate       |0.007954064937683933\n",
      "2025-05-31 09:21:34 | INFO |    \n",
      "2025-05-31 09:21:34 | INFO |    ***Training of the best model.***\n"
     ]
    },
    {
     "name": "stderr",
     "output_type": "stream",
     "text": [
      " 82%|████████▏ | 1630/2000 [16:19<04:03,  1.52it/s, loss=28.1046 valid_loss=40.9491 valid_r2=0.8194]  "
     ]
    }
   ],
   "source": [
    "from pathlib import Path\n",
    "from gnn import train\n",
    "\n",
    "data_name = \"Tg\"\n",
    "config_filepath = Path(\"./../configs\").joinpath(f\"{data_name}.yml\")\n",
    "train.run(config_filepath=config_filepath)"
   ]
  }
 ],
 "metadata": {
  "kernelspec": {
   "display_name": ".venv",
   "language": "python",
   "name": "python3"
  },
  "language_info": {
   "codemirror_mode": {
    "name": "ipython",
    "version": 3
   },
   "file_extension": ".py",
   "mimetype": "text/x-python",
   "name": "python",
   "nbconvert_exporter": "python",
   "pygments_lexer": "ipython3",
   "version": "3.12.10"
  }
 },
 "nbformat": 4,
 "nbformat_minor": 5
}
