{
 "cells": [
  {
   "cell_type": "code",
   "execution_count": 5,
   "id": "af6fb39c",
   "metadata": {},
   "outputs": [
    {
     "name": "stdout",
     "output_type": "stream",
     "text": [
      "SMILES: jdajl, No prediction made\n",
      "SMILES: *CC*, Predicted Value: -87.6471\n",
      "SMILES: *CC(=O)O*, Predicted Value: 51.2066\n",
      "SMILES: *CC(=O)O*CC*, Predicted Value: -113.9734\n",
      "SMILES: *C(c1ccccc1)C*, Predicted Value: 99.1341\n"
     ]
    }
   ],
   "source": [
    "import torch\n",
    "\n",
    "from gnn.modeling.predict import predict\n",
    "\n",
    "\n",
    "model_dir_path = \"./../model/Tg\"\n",
    "smiles_list = [\n",
    "    \"jdajl\",\n",
    "    \"*CC*\",\n",
    "    \"*CC(=O)O*\",\n",
    "    \"*CC(=O)O*CC*\",\n",
    "    \"*C(c1ccccc1)C*\"\n",
    "]\n",
    "device = torch.device(\"cuda\" if torch.cuda.is_available() else \"cpu\")\n",
    "results = predict(model_dir_path, smiles_list, device)\n",
    "for smiles, value in results.items():\n",
    "    if value is not None:\n",
    "        # Print the SMILES string and the predicted value\n",
    "        print(f\"SMILES: {smiles}, Predicted Value: {value:.4f}\")\n",
    "    else:\n",
    "        # Print the SMILES string and a message indicating no prediction was made\n",
    "        print(f\"SMILES: {smiles}, No prediction made\")"
   ]
  },
  {
   "cell_type": "code",
   "execution_count": null,
   "id": "5766ab43",
   "metadata": {},
   "outputs": [],
   "source": []
  }
 ],
 "metadata": {
  "kernelspec": {
   "display_name": "Python 3",
   "language": "python",
   "name": "python3"
  },
  "language_info": {
   "codemirror_mode": {
    "name": "ipython",
    "version": 3
   },
   "file_extension": ".py",
   "mimetype": "text/x-python",
   "name": "python",
   "nbconvert_exporter": "python",
   "pygments_lexer": "ipython3",
   "version": "3.12.10"
  }
 },
 "nbformat": 4,
 "nbformat_minor": 5
}
